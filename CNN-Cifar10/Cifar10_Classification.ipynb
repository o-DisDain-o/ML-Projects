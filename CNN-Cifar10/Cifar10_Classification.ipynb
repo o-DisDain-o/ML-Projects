{
  "nbformat": 4,
  "nbformat_minor": 0,
  "metadata": {
    "colab": {
      "name": "Cifar10 Classification.ipynb",
      "provenance": []
    },
    "kernelspec": {
      "name": "python3",
      "display_name": "Python 3"
    },
    "language_info": {
      "name": "python"
    }
  },
  "cells": [
    {
      "cell_type": "code",
      "execution_count": null,
      "metadata": {
        "colab": {
          "base_uri": "https://localhost:8080/"
        },
        "id": "7u8xsdHrEW_Y",
        "outputId": "f8cdddf7-6a2e-4380-94a0-a1618c22943a"
      },
      "outputs": [
        {
          "output_type": "stream",
          "name": "stdout",
          "text": [
            "using cpu\n"
          ]
        }
      ],
      "source": [
        "import torch\n",
        "import torch.nn as nn\n",
        "import torch.nn.functional as actF\n",
        "import torchvision \n",
        "import torchvision.transforms as transforms\n",
        "import numpy as np\n",
        "import matplotlib.pyplot as plt\n",
        "\n",
        "device = torch.device('cuda' if torch.cuda.is_available() else 'cpu')\n",
        "if torch.cuda.is_available():\n",
        "  print(\"using gpu\")\n",
        "else :\n",
        "  print('using cpu')"
      ]
    },
    {
      "cell_type": "code",
      "source": [
        "epochs = 10\n",
        "batch_size = 4\n",
        "learning_rate = 0.001\n",
        "\n",
        "transform = transforms.Compose(\n",
        "    [transforms.ToTensor(),\n",
        "     transforms.Normalize((0.5, 0.5, 0.5), (0.5, 0.5, 0.5))]\n",
        ")"
      ],
      "metadata": {
        "id": "v1-5RrmIE9c5"
      },
      "execution_count": null,
      "outputs": []
    },
    {
      "cell_type": "markdown",
      "source": [
        "\n",
        "Load the DataSet"
      ],
      "metadata": {
        "id": "bH8nrwgoHYne"
      }
    },
    {
      "cell_type": "code",
      "source": [
        "train_data =torchvision.datasets.CIFAR10(root='./data', train=True, download = True, transform = transform)\n",
        "test_data = torchvision.datasets.CIFAR10(root='./data', train=False, download = True, transform = transform)\n",
        "\n",
        "train_loader = torch.utils.data.DataLoader(train_data, batch_size = batch_size, shuffle = True)\n",
        "test_loader = torch.utils.data.DataLoader(train_data, batch_size = batch_size, shuffle = False)\n"
      ],
      "metadata": {
        "colab": {
          "base_uri": "https://localhost:8080/"
        },
        "id": "1tCC8cO8HdDZ",
        "outputId": "5b0d008a-0972-4bba-b11e-da613f391ba4"
      },
      "execution_count": null,
      "outputs": [
        {
          "output_type": "stream",
          "name": "stdout",
          "text": [
            "Files already downloaded and verified\n",
            "Files already downloaded and verified\n"
          ]
        }
      ]
    },
    {
      "cell_type": "code",
      "source": [
        "classes = ('plane', 'car', 'bird', 'cat', 'deer', 'dog', 'frog', 'horse', 'ship', 'truck')\n",
        "\n",
        "dataiter = iter(train_loader)\n",
        "images, labels = dataiter.next()"
      ],
      "metadata": {
        "id": "bZD4t6iXI_4o"
      },
      "execution_count": null,
      "outputs": []
    },
    {
      "cell_type": "markdown",
      "source": [
        "Modle Definition"
      ],
      "metadata": {
        "id": "g9nXcuf6L6hv"
      }
    },
    {
      "cell_type": "code",
      "source": [
        "class ConvNet(nn.Module):\n",
        "    def __init__(self):\n",
        "        super(ConvNet, self).__init__()\n",
        "        self.conv1 = nn.Conv2d(3, 6, 5)\n",
        "        self.pool = nn.MaxPool2d(2, 2)\n",
        "        self.conv2 = nn.Conv2d(6, 16, 5)\n",
        "        self.fc1 = nn.Linear(16 * 5 * 5, 120)\n",
        "        self.fc2 = nn.Linear(120, 84)\n",
        "        self.fc3 = nn.Linear(84, 10)\n",
        "\n",
        "    def forward(self, x):\n",
        "        x = self.pool(actF.relu(self.conv1(x)))  \n",
        "        x = self.pool(actF.relu(self.conv2(x)))  \n",
        "        x = x.view(-1, 16 * 5 * 5)            \n",
        "        x = actF.relu(self.fc1(x))               \n",
        "        x = actF.relu(self.fc2(x))               \n",
        "        x = self.fc3(x)                       \n",
        "        return x"
      ],
      "metadata": {
        "id": "tXclSW4JJ6PB"
      },
      "execution_count": null,
      "outputs": []
    },
    {
      "cell_type": "code",
      "source": [
        "model = ConvNet().to(device)\n",
        "\n",
        "criterion = nn.CrossEntropyLoss()\n",
        "optimizer = torch.optim.SGD(model.parameters(), lr=learning_rate)"
      ],
      "metadata": {
        "id": "vTBsl55mL_1K"
      },
      "execution_count": null,
      "outputs": []
    },
    {
      "cell_type": "markdown",
      "source": [
        "Training the Modle"
      ],
      "metadata": {
        "id": "ndiIZmXsT31o"
      }
    },
    {
      "cell_type": "code",
      "source": [
        "n_total_steps = len(train_loader)\n",
        "for epoch in range(epochs):\n",
        "    for i, (images, labels) in enumerate(train_loader):\n",
        "        images = images.to(device)\n",
        "        labels = labels.to(device)\n",
        "\n",
        "        # Forward pass\n",
        "        outputs = model(images)\n",
        "        loss = criterion(outputs, labels)\n",
        "\n",
        "        # Backward and optimize\n",
        "        optimizer.zero_grad()\n",
        "        loss.backward()\n",
        "        optimizer.step()\n",
        "\n",
        "        if (i+1) % 2000 == 0:\n",
        "            print (f'Epoch [{epoch+1}/{epochs}], Step [{i+1}/{n_total_steps}], Loss: {loss.item():.4f}')\n",
        "\n",
        "print('Finished Training')\n",
        "PATH = './cnn.pth'\n",
        "torch.save(model.state_dict(), PATH)"
      ],
      "metadata": {
        "colab": {
          "base_uri": "https://localhost:8080/"
        },
        "id": "0B3xJHuVTzSB",
        "outputId": "6f8fb00f-2af6-41a1-981a-f93141ac2776"
      },
      "execution_count": null,
      "outputs": [
        {
          "output_type": "stream",
          "name": "stdout",
          "text": [
            "Epoch [1/10], Step [2000/12500], Loss: 2.3477\n",
            "Epoch [1/10], Step [4000/12500], Loss: 1.3782\n",
            "Epoch [1/10], Step [6000/12500], Loss: 1.5689\n",
            "Epoch [1/10], Step [8000/12500], Loss: 1.0755\n",
            "Epoch [1/10], Step [10000/12500], Loss: 0.7717\n",
            "Epoch [1/10], Step [12000/12500], Loss: 1.0459\n",
            "Epoch [2/10], Step [2000/12500], Loss: 1.0415\n",
            "Epoch [2/10], Step [4000/12500], Loss: 1.4459\n",
            "Epoch [2/10], Step [6000/12500], Loss: 1.0438\n",
            "Epoch [2/10], Step [8000/12500], Loss: 1.4418\n",
            "Epoch [2/10], Step [10000/12500], Loss: 0.9714\n",
            "Epoch [2/10], Step [12000/12500], Loss: 1.2093\n",
            "Epoch [3/10], Step [2000/12500], Loss: 1.0061\n",
            "Epoch [3/10], Step [4000/12500], Loss: 0.6327\n",
            "Epoch [3/10], Step [6000/12500], Loss: 1.8306\n",
            "Epoch [3/10], Step [8000/12500], Loss: 1.2896\n",
            "Epoch [3/10], Step [10000/12500], Loss: 0.8759\n",
            "Epoch [3/10], Step [12000/12500], Loss: 1.1630\n",
            "Epoch [4/10], Step [2000/12500], Loss: 1.1342\n",
            "Epoch [4/10], Step [4000/12500], Loss: 1.2619\n",
            "Epoch [4/10], Step [6000/12500], Loss: 0.6815\n",
            "Epoch [4/10], Step [8000/12500], Loss: 0.7234\n",
            "Epoch [4/10], Step [10000/12500], Loss: 1.2711\n",
            "Epoch [4/10], Step [12000/12500], Loss: 0.9852\n",
            "Epoch [5/10], Step [2000/12500], Loss: 1.6637\n",
            "Epoch [5/10], Step [4000/12500], Loss: 1.9756\n",
            "Epoch [5/10], Step [6000/12500], Loss: 1.6244\n",
            "Epoch [5/10], Step [8000/12500], Loss: 1.4883\n",
            "Epoch [5/10], Step [10000/12500], Loss: 0.8862\n",
            "Epoch [5/10], Step [12000/12500], Loss: 0.8644\n",
            "Epoch [6/10], Step [2000/12500], Loss: 1.7079\n",
            "Epoch [6/10], Step [4000/12500], Loss: 1.4521\n",
            "Epoch [6/10], Step [6000/12500], Loss: 1.5491\n",
            "Epoch [6/10], Step [8000/12500], Loss: 1.0190\n",
            "Epoch [6/10], Step [10000/12500], Loss: 1.0528\n",
            "Epoch [6/10], Step [12000/12500], Loss: 2.8946\n",
            "Epoch [7/10], Step [2000/12500], Loss: 1.0464\n",
            "Epoch [7/10], Step [4000/12500], Loss: 1.7854\n",
            "Epoch [7/10], Step [6000/12500], Loss: 1.3895\n",
            "Epoch [7/10], Step [8000/12500], Loss: 1.6917\n",
            "Epoch [7/10], Step [10000/12500], Loss: 0.4702\n",
            "Epoch [7/10], Step [12000/12500], Loss: 0.7513\n",
            "Epoch [8/10], Step [2000/12500], Loss: 0.9218\n",
            "Epoch [8/10], Step [4000/12500], Loss: 1.1319\n",
            "Epoch [8/10], Step [6000/12500], Loss: 0.7261\n",
            "Epoch [8/10], Step [8000/12500], Loss: 1.9331\n",
            "Epoch [8/10], Step [10000/12500], Loss: 1.3701\n",
            "Epoch [8/10], Step [12000/12500], Loss: 1.1765\n",
            "Epoch [9/10], Step [2000/12500], Loss: 0.9525\n",
            "Epoch [9/10], Step [4000/12500], Loss: 0.3190\n",
            "Epoch [9/10], Step [6000/12500], Loss: 0.8155\n",
            "Epoch [9/10], Step [8000/12500], Loss: 1.0449\n",
            "Epoch [9/10], Step [10000/12500], Loss: 0.7246\n",
            "Epoch [9/10], Step [12000/12500], Loss: 1.0651\n",
            "Epoch [10/10], Step [2000/12500], Loss: 2.7246\n",
            "Epoch [10/10], Step [4000/12500], Loss: 1.0163\n",
            "Epoch [10/10], Step [6000/12500], Loss: 0.3801\n",
            "Epoch [10/10], Step [8000/12500], Loss: 1.2913\n",
            "Epoch [10/10], Step [10000/12500], Loss: 1.2978\n",
            "Epoch [10/10], Step [12000/12500], Loss: 0.6399\n",
            "Finished Training\n"
          ]
        }
      ]
    },
    {
      "cell_type": "markdown",
      "source": [
        "Testing the Modle"
      ],
      "metadata": {
        "id": "1REO85DeT6rY"
      }
    },
    {
      "cell_type": "code",
      "source": [
        "with torch.no_grad():\n",
        "    n_correct = 0\n",
        "    n_samples = 0\n",
        "    n_class_correct = [0 for i in range(10)]\n",
        "    n_class_samples = [0 for i in range(10)]\n",
        "    for images, labels in test_loader:\n",
        "        images = images.to(device)\n",
        "        labels = labels.to(device)\n",
        "        outputs = model(images)\n",
        "        \n",
        "        _, predicted = torch.max(outputs, 1)\n",
        "        n_samples += labels.size(0)\n",
        "        n_correct += (predicted == labels).sum().item()\n",
        "        \n",
        "        for i in range(batch_size):\n",
        "            label = labels[i]\n",
        "            pred = predicted[i]\n",
        "            if (label == pred):\n",
        "                n_class_correct[label] += 1\n",
        "            n_class_samples[label] += 1\n",
        "\n",
        "    acc = 100.0 * n_correct / n_samples\n",
        "    print(f'Accuracy of the network: {acc} %')\n",
        "\n",
        "    for i in range(10):\n",
        "        acc = 100.0 * n_class_correct[i] / n_class_samples[i]\n",
        "        print(f'Accuracy of {classes[i]}: {acc} %')"
      ],
      "metadata": {
        "colab": {
          "base_uri": "https://localhost:8080/"
        },
        "id": "BrLkK0zST-r4",
        "outputId": "9a8513c1-0fd2-48ff-cf0f-6ff248b3d99a"
      },
      "execution_count": null,
      "outputs": [
        {
          "output_type": "stream",
          "name": "stdout",
          "text": [
            "Accuracy of the network: 61.48 %\n",
            "Accuracy of plane: 66.0 %\n",
            "Accuracy of car: 87.54 %\n",
            "Accuracy of bird: 46.58 %\n",
            "Accuracy of cat: 34.5 %\n",
            "Accuracy of deer: 51.84 %\n",
            "Accuracy of dog: 65.38 %\n",
            "Accuracy of frog: 69.42 %\n",
            "Accuracy of horse: 71.18 %\n",
            "Accuracy of ship: 58.28 %\n",
            "Accuracy of truck: 64.08 %\n"
          ]
        }
      ]
    }
  ]
}